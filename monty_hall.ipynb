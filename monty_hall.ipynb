{
  "cells": [
    {
      "cell_type": "markdown",
      "metadata": {
        "colab_type": "text",
        "id": "view-in-github"
      },
      "source": [
        "<a href=\"https://colab.research.google.com/github/samuelshoun/Useful-MWEs/blob/main/monty_hall.ipynb\" target=\"_parent\"><img src=\"https://colab.research.google.com/assets/colab-badge.svg\" alt=\"Open In Colab\"/></a>"
      ]
    },
    {
      "cell_type": "markdown",
      "metadata": {
        "id": "W0L7yQGxHgMS"
      },
      "source": [
        "I sometimes teach or mentor on the topic of probability and risked decision-making in oil & gas. A common teaching tool is the Monty Hall problem. In this notebook, I test the solution by simulating 1,000 trials and comparing the outcome of switching versus staying (keeping the original choice in door).\n",
        "\n",
        "Learn more about the Monty Hall problem <a href='https://en.wikipedia.org/wiki/Monty_Hall_problem'>here</a>."
      ]
    },
    {
      "cell_type": "code",
      "execution_count": 1,
      "metadata": {
        "id": "HltuOpa9xkbh"
      },
      "outputs": [],
      "source": [
        "import numpy as np\n",
        "import pandas as pd"
      ]
    },
    {
      "cell_type": "code",
      "execution_count": 2,
      "metadata": {
        "id": "3-Lb5EQCxnnm"
      },
      "outputs": [],
      "source": [
        "# choose the number of trials\n",
        "n = 1000\n",
        "\n",
        "# label the door options\n",
        "doors = ['A', 'B', 'C']\n",
        "\n",
        "# true car location for each trial\n",
        "car_at = np.random.choice(doors, size=n)\n",
        "\n",
        "# randomly assigned contestant choice of door\n",
        "contestant_choice = np.random.choice(doors, size=n)\n",
        "\n",
        "# the door Monty opens after choosing from the remaining non-car doors\n",
        "monte_opens = [np.random.choice([door for door in doors if door != car_at[i] and door != contestant_choice[i]]) for i in range(n)]\n",
        "\n",
        "# the remaining door the contestant may switch to\n",
        "switch = [[door for door in doors if door != contestant_choice[i] and door != monte_opens[i]][0] for i in range(n)]"
      ]
    },
    {
      "cell_type": "code",
      "execution_count": null,
      "metadata": {
        "colab": {
          "base_uri": "https://localhost:8080/",
          "height": 423
        },
        "id": "NfTxk8cxx3r_",
        "outputId": "fd327d23-83cc-4504-e6ee-cd46d2f29aae"
      },
      "outputs": [
        {
          "data": {
            "text/html": [
              "<div>\n",
              "<style scoped>\n",
              "    .dataframe tbody tr th:only-of-type {\n",
              "        vertical-align: middle;\n",
              "    }\n",
              "\n",
              "    .dataframe tbody tr th {\n",
              "        vertical-align: top;\n",
              "    }\n",
              "\n",
              "    .dataframe thead th {\n",
              "        text-align: right;\n",
              "    }\n",
              "</style>\n",
              "<table border=\"1\" class=\"dataframe\">\n",
              "  <thead>\n",
              "    <tr style=\"text-align: right;\">\n",
              "      <th></th>\n",
              "      <th>car_at</th>\n",
              "      <th>contestant_choice</th>\n",
              "      <th>monty_opens</th>\n",
              "      <th>switch</th>\n",
              "      <th>stay_wins</th>\n",
              "      <th>switch_wins</th>\n",
              "    </tr>\n",
              "  </thead>\n",
              "  <tbody>\n",
              "    <tr>\n",
              "      <th>86</th>\n",
              "      <td>B</td>\n",
              "      <td>C</td>\n",
              "      <td>A</td>\n",
              "      <td>B</td>\n",
              "      <td>0</td>\n",
              "      <td>1</td>\n",
              "    </tr>\n",
              "    <tr>\n",
              "      <th>65</th>\n",
              "      <td>A</td>\n",
              "      <td>A</td>\n",
              "      <td>C</td>\n",
              "      <td>B</td>\n",
              "      <td>1</td>\n",
              "      <td>0</td>\n",
              "    </tr>\n",
              "    <tr>\n",
              "      <th>420</th>\n",
              "      <td>A</td>\n",
              "      <td>A</td>\n",
              "      <td>B</td>\n",
              "      <td>C</td>\n",
              "      <td>1</td>\n",
              "      <td>0</td>\n",
              "    </tr>\n",
              "    <tr>\n",
              "      <th>817</th>\n",
              "      <td>C</td>\n",
              "      <td>C</td>\n",
              "      <td>A</td>\n",
              "      <td>B</td>\n",
              "      <td>1</td>\n",
              "      <td>0</td>\n",
              "    </tr>\n",
              "    <tr>\n",
              "      <th>526</th>\n",
              "      <td>B</td>\n",
              "      <td>C</td>\n",
              "      <td>A</td>\n",
              "      <td>B</td>\n",
              "      <td>0</td>\n",
              "      <td>1</td>\n",
              "    </tr>\n",
              "    <tr>\n",
              "      <th>846</th>\n",
              "      <td>C</td>\n",
              "      <td>B</td>\n",
              "      <td>A</td>\n",
              "      <td>C</td>\n",
              "      <td>0</td>\n",
              "      <td>1</td>\n",
              "    </tr>\n",
              "    <tr>\n",
              "      <th>279</th>\n",
              "      <td>A</td>\n",
              "      <td>B</td>\n",
              "      <td>C</td>\n",
              "      <td>A</td>\n",
              "      <td>0</td>\n",
              "      <td>1</td>\n",
              "    </tr>\n",
              "    <tr>\n",
              "      <th>911</th>\n",
              "      <td>B</td>\n",
              "      <td>C</td>\n",
              "      <td>A</td>\n",
              "      <td>B</td>\n",
              "      <td>0</td>\n",
              "      <td>1</td>\n",
              "    </tr>\n",
              "    <tr>\n",
              "      <th>96</th>\n",
              "      <td>C</td>\n",
              "      <td>B</td>\n",
              "      <td>A</td>\n",
              "      <td>C</td>\n",
              "      <td>0</td>\n",
              "      <td>1</td>\n",
              "    </tr>\n",
              "    <tr>\n",
              "      <th>315</th>\n",
              "      <td>B</td>\n",
              "      <td>B</td>\n",
              "      <td>C</td>\n",
              "      <td>A</td>\n",
              "      <td>1</td>\n",
              "      <td>0</td>\n",
              "    </tr>\n",
              "  </tbody>\n",
              "</table>\n",
              "</div>"
            ],
            "text/plain": [
              "    car_at contestant_choice monty_opens switch  stay_wins  switch_wins\n",
              "86       B                 C           A      B          0            1\n",
              "65       A                 A           C      B          1            0\n",
              "420      A                 A           B      C          1            0\n",
              "817      C                 C           A      B          1            0\n",
              "526      B                 C           A      B          0            1\n",
              "846      C                 B           A      C          0            1\n",
              "279      A                 B           C      A          0            1\n",
              "911      B                 C           A      B          0            1\n",
              "96       C                 B           A      C          0            1\n",
              "315      B                 B           C      A          1            0"
            ]
          },
          "execution_count": 3,
          "metadata": {},
          "output_type": "execute_result"
        }
      ],
      "source": [
        "# create a dataframe for convenience\n",
        "df = pd.DataFrame({\n",
        "    'car_at': car_at,\n",
        "    'contestant_choice': contestant_choice,\n",
        "    'monty_opens': monte_opens,\n",
        "    'switch': switch\n",
        "    })\n",
        "\n",
        "# label each trial as a win for switch or a win for stay (original choice)\n",
        "df['stay_wins'] = (df['contestant_choice'] == df['car_at']).astype(int)\n",
        "df['switch_wins'] = (df['switch'] == df['car_at']).astype(int)\n",
        "\n",
        "# view the simulation\n",
        "df.sample(10)"
      ]
    },
    {
      "cell_type": "code",
      "execution_count": 4,
      "metadata": {
        "colab": {
          "base_uri": "https://localhost:8080/"
        },
        "id": "OMumQ9i3-aJp",
        "outputId": "5bfe34f0-aa23-45c9-c4e3-ad0fd6849479"
      },
      "outputs": [
        {
          "data": {
            "text/plain": [
              "stay_wins      341\n",
              "switch_wins    659\n",
              "dtype: int64"
            ]
          },
          "execution_count": 4,
          "metadata": {},
          "output_type": "execute_result"
        }
      ],
      "source": [
        "# count the wins for stay versus switch\n",
        "df[['stay_wins', 'switch_wins']].sum(axis=0)"
      ]
    },
    {
      "cell_type": "code",
      "execution_count": 5,
      "metadata": {
        "colab": {
          "base_uri": "https://localhost:8080/",
          "height": 498
        },
        "id": "G4g0zTDiBYrR",
        "outputId": "5b151451-c30e-4d9e-8790-7f9aefcbe001"
      },
      "outputs": [
        {
          "data": {
            "image/png": "[encoded data removed]",
            "text/plain": [
              "<Figure size 640x480 with 1 Axes>"
            ]
          },
          "metadata": {},
          "output_type": "display_data"
        }
      ],
      "source": [
        "# plot the counts\n",
        "df[['stay_wins', 'switch_wins']].sum(axis=0).plot(kind='bar');"
      ]
    },
    {
      "cell_type": "markdown",
      "metadata": {
        "id": "4EP4KTBjIdC7"
      },
      "source": [
        "We can see that, consistent with the common solution, switching door choices leads to twice as many wins as staying with the original choice."
      ]
    }
  ],
  "metadata": {
    "colab": {
      "authorship_tag": "ABX9TyPfhersfMtPRmJ7iXyNNQNZ",
      "include_colab_link": true,
      "provenance": []
    },
    "kernelspec": {
      "display_name": "Python 3",
      "name": "python3"
    },
    "language_info": {
      "codemirror_mode": {
        "name": "ipython",
        "version": 3
      },
      "file_extension": ".py",
      "mimetype": "text/x-python",
      "name": "python",
      "nbconvert_exporter": "python",
      "pygments_lexer": "ipython3",
      "version": "3.12.5"
    }
  },
  "nbformat": 4,
  "nbformat_minor": 0
}
